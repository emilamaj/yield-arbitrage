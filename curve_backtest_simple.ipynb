{
 "cells": [
  {
   "cell_type": "code",
   "execution_count": null,
   "metadata": {},
   "outputs": [],
   "source": [
    "# Notebook to backtest the curve strategy with simple assumptions:\n",
    "# - APY is measured every T minutes\n",
    "# - Everything is placed in the pool with the highest APY of the last T minutes\n",
    "# - No rebalancing fees when moving funds from one pool to another e.g. gas fees, slippage or bridging fees\n",
    "# - No impermanent loss. Assume that the price of the underlying assets is constant\n",
    "\n",
    "\n",
    "import json\n",
    "import os\n",
    "import time\n",
    "import matplotlib.pyplot as plt\n",
    "from web3 import Web3, HTTPProvider\n",
    "from datetime import datetime, timedelta\n",
    "import json\n"
   ]
  }
 ],
 "metadata": {
  "kernelspec": {
   "display_name": "Python 3",
   "language": "python",
   "name": "python3"
  },
  "language_info": {
   "name": "python",
   "version": "3.10.4"
  }
 },
 "nbformat": 4,
 "nbformat_minor": 2
}
